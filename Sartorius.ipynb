{
 "cells": [
  {
   "cell_type": "markdown",
   "id": "9e8c3051",
   "metadata": {},
   "source": [
    "# Sartorius "
   ]
  },
  {
   "cell_type": "markdown",
   "id": "273b36f0",
   "metadata": {},
   "source": [
    "Dit is een onderzoek naar het autmoatiseren van de annotatie op hersen cellen.\n",
    "Dit onderzoek is gestart om te zorgen dat doktoren meer tijd over hebben voor andere bezigheden.\n",
    "\n",
    "Door groep 4\n",
    "Danny Rovers, Thomas Hendriks en Liam Freke"
   ]
  },
  {
   "cell_type": "code",
   "execution_count": 1,
   "id": "aa8dec57",
   "metadata": {},
   "outputs": [
    {
     "name": "stdout",
     "output_type": "stream",
     "text": [
      "Requirement already satisfied: opencv-python in c:\\users\\liamf\\anaconda3\\lib\\site-packages (4.6.0.66)\n",
      "Requirement already satisfied: numpy>=1.14.5 in c:\\users\\liamf\\anaconda3\\lib\\site-packages (from opencv-python) (1.20.1)\n",
      "Note: you may need to restart the kernel to use updated packages.\n"
     ]
    }
   ],
   "source": [
    "pip install opencv-python"
   ]
  },
  {
   "cell_type": "code",
   "execution_count": 2,
   "id": "2f832d9a",
   "metadata": {},
   "outputs": [],
   "source": [
    "import pandas as pd\n",
    "from warnings import filterwarnings\n",
    "import tensorflow as tf\n",
    "from tensorflow import io\n",
    "from tensorflow import image\n",
    "from matplotlib import pyplot as plt\n",
    "import cv2\n",
    "import seaborn as sns"
   ]
  },
  {
   "cell_type": "markdown",
   "id": "8e3faafd",
   "metadata": {},
   "source": [
    "Als eerste wordt de data opgehaald. Wij beginnen daarmee door het csv bestandt train op te halen. Dit zie je in onderstaande code."
   ]
  },
  {
   "cell_type": "code",
   "execution_count": 3,
   "id": "5395d7ef",
   "metadata": {},
   "outputs": [
    {
     "data": {
      "text/plain": [
       "str"
      ]
     },
     "execution_count": 3,
     "metadata": {},
     "output_type": "execute_result"
    }
   ],
   "source": [
    "pad_naar_file = r\"C:\\Users\\liamf\\OneDrive - Hogeschool Leiden\\Documenten\\Northpool\\Image_Processing\\sartorius-cell-instance-segmentation\\train.csv\"\n",
    "type(pad_naar_file)"
   ]
  },
  {
   "cell_type": "code",
   "execution_count": 4,
   "id": "10323e6c",
   "metadata": {},
   "outputs": [],
   "source": [
    "def read_data(csv_file):\n",
    "    dataframe = pd.read_csv(csv_file)\n",
    "\n",
    "    #zet hier de code om de CSV file in te lezen\n",
    "    return dataframe"
   ]
  },
  {
   "cell_type": "code",
   "execution_count": 5,
   "id": "503a0f61",
   "metadata": {},
   "outputs": [],
   "source": [
    "#hier wordt jouw functie aangeroepen en bevat df nu het dataframe\n",
    "df = read_data(pad_naar_file);"
   ]
  },
  {
   "cell_type": "code",
   "execution_count": 6,
   "id": "0f8d9652",
   "metadata": {},
   "outputs": [
    {
     "data": {
      "text/html": [
       "<div>\n",
       "<style scoped>\n",
       "    .dataframe tbody tr th:only-of-type {\n",
       "        vertical-align: middle;\n",
       "    }\n",
       "\n",
       "    .dataframe tbody tr th {\n",
       "        vertical-align: top;\n",
       "    }\n",
       "\n",
       "    .dataframe thead th {\n",
       "        text-align: right;\n",
       "    }\n",
       "</style>\n",
       "<table border=\"1\" class=\"dataframe\">\n",
       "  <thead>\n",
       "    <tr style=\"text-align: right;\">\n",
       "      <th></th>\n",
       "      <th>id</th>\n",
       "      <th>annotation</th>\n",
       "      <th>width</th>\n",
       "      <th>height</th>\n",
       "      <th>cell_type</th>\n",
       "      <th>plate_time</th>\n",
       "      <th>sample_date</th>\n",
       "      <th>sample_id</th>\n",
       "      <th>elapsed_timedelta</th>\n",
       "    </tr>\n",
       "  </thead>\n",
       "  <tbody>\n",
       "    <tr>\n",
       "      <th>0</th>\n",
       "      <td>0030fd0e6378</td>\n",
       "      <td>118145 6 118849 7 119553 8 120257 8 120961 9 1...</td>\n",
       "      <td>704</td>\n",
       "      <td>520</td>\n",
       "      <td>shsy5y</td>\n",
       "      <td>11h30m00s</td>\n",
       "      <td>2019-06-16</td>\n",
       "      <td>shsy5y[diff]_E10-4_Vessel-714_Ph_3</td>\n",
       "      <td>0 days 11:30:00</td>\n",
       "    </tr>\n",
       "    <tr>\n",
       "      <th>1</th>\n",
       "      <td>0030fd0e6378</td>\n",
       "      <td>189036 1 189739 3 190441 6 191144 7 191848 8 1...</td>\n",
       "      <td>704</td>\n",
       "      <td>520</td>\n",
       "      <td>shsy5y</td>\n",
       "      <td>11h30m00s</td>\n",
       "      <td>2019-06-16</td>\n",
       "      <td>shsy5y[diff]_E10-4_Vessel-714_Ph_3</td>\n",
       "      <td>0 days 11:30:00</td>\n",
       "    </tr>\n",
       "    <tr>\n",
       "      <th>2</th>\n",
       "      <td>0030fd0e6378</td>\n",
       "      <td>173567 3 174270 5 174974 5 175678 6 176382 7 1...</td>\n",
       "      <td>704</td>\n",
       "      <td>520</td>\n",
       "      <td>shsy5y</td>\n",
       "      <td>11h30m00s</td>\n",
       "      <td>2019-06-16</td>\n",
       "      <td>shsy5y[diff]_E10-4_Vessel-714_Ph_3</td>\n",
       "      <td>0 days 11:30:00</td>\n",
       "    </tr>\n",
       "    <tr>\n",
       "      <th>3</th>\n",
       "      <td>0030fd0e6378</td>\n",
       "      <td>196723 4 197427 6 198130 7 198834 8 199538 8 2...</td>\n",
       "      <td>704</td>\n",
       "      <td>520</td>\n",
       "      <td>shsy5y</td>\n",
       "      <td>11h30m00s</td>\n",
       "      <td>2019-06-16</td>\n",
       "      <td>shsy5y[diff]_E10-4_Vessel-714_Ph_3</td>\n",
       "      <td>0 days 11:30:00</td>\n",
       "    </tr>\n",
       "    <tr>\n",
       "      <th>4</th>\n",
       "      <td>0030fd0e6378</td>\n",
       "      <td>167818 3 168522 5 169225 7 169928 8 170632 9 1...</td>\n",
       "      <td>704</td>\n",
       "      <td>520</td>\n",
       "      <td>shsy5y</td>\n",
       "      <td>11h30m00s</td>\n",
       "      <td>2019-06-16</td>\n",
       "      <td>shsy5y[diff]_E10-4_Vessel-714_Ph_3</td>\n",
       "      <td>0 days 11:30:00</td>\n",
       "    </tr>\n",
       "    <tr>\n",
       "      <th>...</th>\n",
       "      <td>...</td>\n",
       "      <td>...</td>\n",
       "      <td>...</td>\n",
       "      <td>...</td>\n",
       "      <td>...</td>\n",
       "      <td>...</td>\n",
       "      <td>...</td>\n",
       "      <td>...</td>\n",
       "      <td>...</td>\n",
       "    </tr>\n",
       "    <tr>\n",
       "      <th>73580</th>\n",
       "      <td>ffdb3cc02eef</td>\n",
       "      <td>3610 3 4311 7 5014 9 5717 11 6420 13 7123 15 7...</td>\n",
       "      <td>704</td>\n",
       "      <td>520</td>\n",
       "      <td>cort</td>\n",
       "      <td>11h59m00s</td>\n",
       "      <td>2020-11-01</td>\n",
       "      <td>cort[debris]_D9-3_Vessel-384_Ph_4</td>\n",
       "      <td>0 days 11:59:00</td>\n",
       "    </tr>\n",
       "    <tr>\n",
       "      <th>73581</th>\n",
       "      <td>ffdb3cc02eef</td>\n",
       "      <td>341585 2 342287 5 342988 10 343690 13 344394 1...</td>\n",
       "      <td>704</td>\n",
       "      <td>520</td>\n",
       "      <td>cort</td>\n",
       "      <td>11h59m00s</td>\n",
       "      <td>2020-11-01</td>\n",
       "      <td>cort[debris]_D9-3_Vessel-384_Ph_4</td>\n",
       "      <td>0 days 11:59:00</td>\n",
       "    </tr>\n",
       "    <tr>\n",
       "      <th>73582</th>\n",
       "      <td>ffdb3cc02eef</td>\n",
       "      <td>47788 3 48490 7 49192 11 49896 13 50599 14 513...</td>\n",
       "      <td>704</td>\n",
       "      <td>520</td>\n",
       "      <td>cort</td>\n",
       "      <td>11h59m00s</td>\n",
       "      <td>2020-11-01</td>\n",
       "      <td>cort[debris]_D9-3_Vessel-384_Ph_4</td>\n",
       "      <td>0 days 11:59:00</td>\n",
       "    </tr>\n",
       "    <tr>\n",
       "      <th>73583</th>\n",
       "      <td>ffdb3cc02eef</td>\n",
       "      <td>333290 1 333993 2 334696 4 335399 5 336102 6 3...</td>\n",
       "      <td>704</td>\n",
       "      <td>520</td>\n",
       "      <td>cort</td>\n",
       "      <td>11h59m00s</td>\n",
       "      <td>2020-11-01</td>\n",
       "      <td>cort[debris]_D9-3_Vessel-384_Ph_4</td>\n",
       "      <td>0 days 11:59:00</td>\n",
       "    </tr>\n",
       "    <tr>\n",
       "      <th>73584</th>\n",
       "      <td>ffdb3cc02eef</td>\n",
       "      <td>249775 2 250477 6 251180 8 251882 11 252585 12...</td>\n",
       "      <td>704</td>\n",
       "      <td>520</td>\n",
       "      <td>cort</td>\n",
       "      <td>11h59m00s</td>\n",
       "      <td>2020-11-01</td>\n",
       "      <td>cort[debris]_D9-3_Vessel-384_Ph_4</td>\n",
       "      <td>0 days 11:59:00</td>\n",
       "    </tr>\n",
       "  </tbody>\n",
       "</table>\n",
       "<p>73585 rows × 9 columns</p>\n",
       "</div>"
      ],
      "text/plain": [
       "                 id                                         annotation  width  \\\n",
       "0      0030fd0e6378  118145 6 118849 7 119553 8 120257 8 120961 9 1...    704   \n",
       "1      0030fd0e6378  189036 1 189739 3 190441 6 191144 7 191848 8 1...    704   \n",
       "2      0030fd0e6378  173567 3 174270 5 174974 5 175678 6 176382 7 1...    704   \n",
       "3      0030fd0e6378  196723 4 197427 6 198130 7 198834 8 199538 8 2...    704   \n",
       "4      0030fd0e6378  167818 3 168522 5 169225 7 169928 8 170632 9 1...    704   \n",
       "...             ...                                                ...    ...   \n",
       "73580  ffdb3cc02eef  3610 3 4311 7 5014 9 5717 11 6420 13 7123 15 7...    704   \n",
       "73581  ffdb3cc02eef  341585 2 342287 5 342988 10 343690 13 344394 1...    704   \n",
       "73582  ffdb3cc02eef  47788 3 48490 7 49192 11 49896 13 50599 14 513...    704   \n",
       "73583  ffdb3cc02eef  333290 1 333993 2 334696 4 335399 5 336102 6 3...    704   \n",
       "73584  ffdb3cc02eef  249775 2 250477 6 251180 8 251882 11 252585 12...    704   \n",
       "\n",
       "       height cell_type plate_time sample_date  \\\n",
       "0         520    shsy5y  11h30m00s  2019-06-16   \n",
       "1         520    shsy5y  11h30m00s  2019-06-16   \n",
       "2         520    shsy5y  11h30m00s  2019-06-16   \n",
       "3         520    shsy5y  11h30m00s  2019-06-16   \n",
       "4         520    shsy5y  11h30m00s  2019-06-16   \n",
       "...       ...       ...        ...         ...   \n",
       "73580     520      cort  11h59m00s  2020-11-01   \n",
       "73581     520      cort  11h59m00s  2020-11-01   \n",
       "73582     520      cort  11h59m00s  2020-11-01   \n",
       "73583     520      cort  11h59m00s  2020-11-01   \n",
       "73584     520      cort  11h59m00s  2020-11-01   \n",
       "\n",
       "                                sample_id elapsed_timedelta  \n",
       "0      shsy5y[diff]_E10-4_Vessel-714_Ph_3   0 days 11:30:00  \n",
       "1      shsy5y[diff]_E10-4_Vessel-714_Ph_3   0 days 11:30:00  \n",
       "2      shsy5y[diff]_E10-4_Vessel-714_Ph_3   0 days 11:30:00  \n",
       "3      shsy5y[diff]_E10-4_Vessel-714_Ph_3   0 days 11:30:00  \n",
       "4      shsy5y[diff]_E10-4_Vessel-714_Ph_3   0 days 11:30:00  \n",
       "...                                   ...               ...  \n",
       "73580   cort[debris]_D9-3_Vessel-384_Ph_4   0 days 11:59:00  \n",
       "73581   cort[debris]_D9-3_Vessel-384_Ph_4   0 days 11:59:00  \n",
       "73582   cort[debris]_D9-3_Vessel-384_Ph_4   0 days 11:59:00  \n",
       "73583   cort[debris]_D9-3_Vessel-384_Ph_4   0 days 11:59:00  \n",
       "73584   cort[debris]_D9-3_Vessel-384_Ph_4   0 days 11:59:00  \n",
       "\n",
       "[73585 rows x 9 columns]"
      ]
     },
     "execution_count": 6,
     "metadata": {},
     "output_type": "execute_result"
    }
   ],
   "source": [
    "df"
   ]
  },
  {
   "cell_type": "markdown",
   "id": "c1d187ec",
   "metadata": {},
   "source": [
    "Vanuit deze tabel hebben wij een data dictionary opgesteld."
   ]
  },
  {
   "cell_type": "markdown",
   "id": "dc1d7ca3",
   "metadata": {},
   "source": [
    "### Data dictionary ###\n",
    "\n",
    "| Variabele | Omschrijving | Datatype | Numeriek of Categorie | Meetniveau |\n",
    "| :--- | :--- | :--- | :--- | :--- |\n",
    "| Id | Een unieke identificatie code | Integer | Nummeriek | Ordinaal |\n",
    "| annotation | gecodeerde pixels van een geïdentificeerde neuronen cell | object | Nummeriek | Ordinaal |\n",
    "| width | breedte van de source image | Integer | Nummeriek | Interval |\n",
    "| height | hoogte van de source image | Integer | Nummeriek | Interval |\n",
    "| cell_type | Type van de cell | String | Catagorie | Nominaal |\n",
    "| plate_time | Tijd van het maken van de sample | Time | Nummeriek | Interval |\n",
    "| sample_date | Datum wanneer de sample is gemaakt | Date | Nummeriek | Interval |\n",
    "| sample_id | Een unieke identificatie code van de sample | Integer | Catagorie | Ordinaal |\n",
    "| elepased_timedelta | Tijd sinds eerste image is genomen | Date | Nummeriek | Ratio |"
   ]
  },
  {
   "cell_type": "markdown",
   "id": "1d8a0baf",
   "metadata": {},
   "source": [
    "## Controleren van de data"
   ]
  },
  {
   "cell_type": "markdown",
   "id": "ae8ad066",
   "metadata": {},
   "source": [
    "Hierboven staat een deel van de data in het train csv bestandt. De data ziet er schoon uit maar wij zullen dit eerst testen voor de zekerheid. We zullen beginnen met het kijken naar de nullwaardes."
   ]
  },
  {
   "cell_type": "code",
   "execution_count": 7,
   "id": "6914691e",
   "metadata": {},
   "outputs": [
    {
     "name": "stdout",
     "output_type": "stream",
     "text": [
      "<class 'pandas.core.frame.DataFrame'>\n",
      "RangeIndex: 73585 entries, 0 to 73584\n",
      "Data columns (total 9 columns):\n",
      " #   Column             Non-Null Count  Dtype \n",
      "---  ------             --------------  ----- \n",
      " 0   id                 73585 non-null  object\n",
      " 1   annotation         73585 non-null  object\n",
      " 2   width              73585 non-null  int64 \n",
      " 3   height             73585 non-null  int64 \n",
      " 4   cell_type          73585 non-null  object\n",
      " 5   plate_time         73585 non-null  object\n",
      " 6   sample_date        73585 non-null  object\n",
      " 7   sample_id          73585 non-null  object\n",
      " 8   elapsed_timedelta  73585 non-null  object\n",
      "dtypes: int64(2), object(7)\n",
      "memory usage: 5.1+ MB\n"
     ]
    }
   ],
   "source": [
    "df.info()"
   ]
  },
  {
   "cell_type": "markdown",
   "id": "b758af45",
   "metadata": {},
   "source": [
    "Hierboven staat de info over de tabel. Hierin staat ook dat er geen nullwaardes bevinden in de data. Verder zien we ook dat de data types van de kolommen goed staan. We zullen nu kijken naar alle unieke catagorische data."
   ]
  },
  {
   "cell_type": "code",
   "execution_count": 8,
   "id": "41d1b7a0",
   "metadata": {},
   "outputs": [
    {
     "data": {
      "text/plain": [
       "array(['shsy5y', 'astro', 'cort'], dtype=object)"
      ]
     },
     "execution_count": 8,
     "metadata": {},
     "output_type": "execute_result"
    }
   ],
   "source": [
    "df['cell_type'].unique()"
   ]
  },
  {
   "cell_type": "code",
   "execution_count": 9,
   "id": "5c60cd1a",
   "metadata": {},
   "outputs": [
    {
     "data": {
      "text/plain": [
       "array(['11h30m00s', '09h00m00s', '13h30m00s', '19h30m00s', '07h30m00s',\n",
       "       '11h59m00s', '01h30m00s', '13h00m00s'], dtype=object)"
      ]
     },
     "execution_count": 9,
     "metadata": {},
     "output_type": "execute_result"
    }
   ],
   "source": [
    "df['plate_time'].unique()"
   ]
  },
  {
   "cell_type": "code",
   "execution_count": 10,
   "id": "3f85d229",
   "metadata": {},
   "outputs": [
    {
     "data": {
      "text/plain": [
       "array(['2019-06-16', '2020-09-13', '2020-11-04', '2020-10-27',\n",
       "       '2020-11-07', '2019-06-14', '2019-06-15', '2020-11-03',\n",
       "       '2020-11-06', '2020-10-30', '2020-11-05', '2020-09-15',\n",
       "       '2020-09-16', '2020-09-14', '2020-09-12', '2020-10-26',\n",
       "       '2020-11-01', '2020-10-29'], dtype=object)"
      ]
     },
     "execution_count": 10,
     "metadata": {},
     "output_type": "execute_result"
    }
   ],
   "source": [
    "df['sample_date'].unique()"
   ]
  },
  {
   "cell_type": "code",
   "execution_count": 11,
   "id": "c808c80a",
   "metadata": {},
   "outputs": [
    {
     "data": {
      "text/plain": [
       "array(['0 days 11:30:00', '0 days 09:00:00', '0 days 13:30:00',\n",
       "       '0 days 19:30:00', '0 days 07:30:00', '0 days 11:59:00',\n",
       "       '0 days 01:30:00', '0 days 13:00:00'], dtype=object)"
      ]
     },
     "execution_count": 11,
     "metadata": {},
     "output_type": "execute_result"
    }
   ],
   "source": [
    "df['elapsed_timedelta'].unique()"
   ]
  },
  {
   "cell_type": "code",
   "execution_count": 12,
   "id": "fad47345",
   "metadata": {},
   "outputs": [
    {
     "data": {
      "text/plain": [
       "array([704], dtype=int64)"
      ]
     },
     "execution_count": 12,
     "metadata": {},
     "output_type": "execute_result"
    }
   ],
   "source": [
    "df['width'].unique()"
   ]
  },
  {
   "cell_type": "code",
   "execution_count": 13,
   "id": "8812f267",
   "metadata": {},
   "outputs": [
    {
     "data": {
      "text/plain": [
       "array([520], dtype=int64)"
      ]
     },
     "execution_count": 13,
     "metadata": {},
     "output_type": "execute_result"
    }
   ],
   "source": [
    "df['height'].unique()"
   ]
  },
  {
   "cell_type": "code",
   "execution_count": 14,
   "id": "69d3dfe1",
   "metadata": {},
   "outputs": [
    {
     "data": {
      "text/plain": [
       "c4121689002f    790\n",
       "d164e96bb7a9    782\n",
       "e748ac1c469b    703\n",
       "aff8fb4fc364    609\n",
       "e8ae919aa92e    605\n",
       "               ... \n",
       "7f21996da2e6      8\n",
       "c25db38e918e      6\n",
       "eec79772cb99      5\n",
       "b861811eaff6      5\n",
       "e92c56871769      4\n",
       "Name: id, Length: 606, dtype: int64"
      ]
     },
     "execution_count": 14,
     "metadata": {},
     "output_type": "execute_result"
    }
   ],
   "source": [
    "df[\"id\"].value_counts(normalize=False)"
   ]
  },
  {
   "cell_type": "code",
   "execution_count": 15,
   "id": "765cf551",
   "metadata": {},
   "outputs": [
    {
     "data": {
      "text/plain": [
       "shsy5y[diff]_E10-3_Vessel-714_Ph_4    1463\n",
       "shsy5y[diff]_D11-2_Vessel-714_Ph_3    1313\n",
       "shsy5y[diff]_D11-2_Vessel-714_Ph_1    1233\n",
       "shsy5y[diff]_D11-1_Vessel-714_Ph_4    1230\n",
       "shsy5y[diff]_D12-4_Vessel-714_Ph_4    1181\n",
       "                                      ... \n",
       "cort[density]_A9-4_Vessel-376_Ph_4      11\n",
       "astro[hippo]_F3-3_Vessel-361_Ph_1       10\n",
       "cort[6-OHDA]_B1-2_Vessel-377_Ph_2        9\n",
       "cort[6-OHDA]_G2-1_Vessel-377_Ph_4        8\n",
       "astro[hippo]_H6-4_Vessel-361_Ph_4        5\n",
       "Name: sample_id, Length: 403, dtype: int64"
      ]
     },
     "execution_count": 15,
     "metadata": {},
     "output_type": "execute_result"
    }
   ],
   "source": [
    "df[\"sample_id\"].value_counts(normalize=False)"
   ]
  },
  {
   "cell_type": "markdown",
   "id": "71437a1b",
   "metadata": {},
   "source": [
    "De catagorische data toont ons hoeveel verschillende waardes voorkomen.\n",
    "Nu zullen wij de waardes van \"cell_type\" omzetten naar getallen omdat dit beter werkbaar is voor onze analyse.\n",
    "De waardes \"width\" en \"height\" hebben beide maar één waarde.\n",
    "De waardes \"id\" komt meerdere keren voor. Dit kan omdat er op meerdere pixels op de foto's van de data set markerkingen kunnen staan.\n",
    "De waarde \"sample_id\" komt ook meerdere keren voor. Deze waarde komt vaker voor dan \"id\" en geeft aan dat er waarschijnlijk van een monster meerdere foto's zijn gemaakt.\n",
    "Verder zien we geen andere opmerkelijke dingen in de data staan.\n",
    "De andere waardes laten wij voor nu staan."
   ]
  },
  {
   "cell_type": "code",
   "execution_count": 16,
   "id": "d3a21576",
   "metadata": {},
   "outputs": [],
   "source": [
    "def vervang_categorienaam(dataframe):\n",
    "    set_wc = {'shsy5y':0,'astro':1,'cort':2}\n",
    "    dataframe['cell_type'] = dataframe['cell_type'].map(set_wc)\n",
    "    return dataframe"
   ]
  },
  {
   "cell_type": "code",
   "execution_count": 17,
   "id": "c7c71850",
   "metadata": {},
   "outputs": [],
   "source": [
    "df = vervang_categorienaam(df)"
   ]
  },
  {
   "cell_type": "markdown",
   "id": "7ed169f4",
   "metadata": {},
   "source": [
    "We gaan nu verder met het bekijken van de correlaties in de data."
   ]
  },
  {
   "cell_type": "code",
   "execution_count": 18,
   "id": "ba748ee8",
   "metadata": {},
   "outputs": [
    {
     "data": {
      "text/plain": [
       "<AxesSubplot:>"
      ]
     },
     "execution_count": 18,
     "metadata": {},
     "output_type": "execute_result"
    },
    {
     "data": {
      "image/png": "[encoded data removed]",
      "text/plain": [
       "<Figure size 432x288 with 2 Axes>"
      ]
     },
     "metadata": {
      "needs_background": "light"
     },
     "output_type": "display_data"
    }
   ],
   "source": [
    "sns.heatmap(df.corr(), annot = True, vmin=-1, vmax=1, center= 0, cmap= 'coolwarm')"
   ]
  },
  {
   "cell_type": "markdown",
   "id": "b934a87f",
   "metadata": {},
   "source": [
    "Hierboven staat een lege heatmap. Dit geeft aan dat er geen correlaties bevinden in de data. Nu zullen wij verder kijken naar de verdeling van de data we beginen met cell_type"
   ]
  },
  {
   "cell_type": "code",
   "execution_count": 19,
   "id": "9877520d",
   "metadata": {},
   "outputs": [
    {
     "data": {
      "text/plain": [
       "<seaborn.axisgrid.FacetGrid at 0x2114845c550>"
      ]
     },
     "execution_count": 19,
     "metadata": {},
     "output_type": "execute_result"
    },
    {
     "data": {
      "image/png": "[encoded data removed]",
      "text/plain": [
       "<Figure size 360x360 with 1 Axes>"
      ]
     },
     "metadata": {
      "needs_background": "light"
     },
     "output_type": "display_data"
    }
   ],
   "source": [
    "sns.catplot(x='cell_type', data=df,kind='count')  "
   ]
  },
  {
   "cell_type": "markdown",
   "id": "f9b72f05",
   "metadata": {},
   "source": [
    "Hierin valt goed te zien dat de shsy5y cell het meeste voor komt. Hierna komen de andere twee cellen die dicht bij elkaar liggen. Nu zullen we kijken naar de kolommen \"elapsed_timedelta\", \"sample_date\" en \"plate_time\"."
   ]
  },
  {
   "cell_type": "code",
   "execution_count": 20,
   "id": "ed42b1eb",
   "metadata": {},
   "outputs": [
    {
     "data": {
      "text/plain": [
       "<seaborn.axisgrid.FacetGrid at 0x21147883910>"
      ]
     },
     "execution_count": 20,
     "metadata": {},
     "output_type": "execute_result"
    },
    {
     "data": {
      "image/png": "[encoded data removed]",
      "text/plain": [
       "<Figure size 360x360 with 1 Axes>"
      ]
     },
     "metadata": {
      "needs_background": "light"
     },
     "output_type": "display_data"
    }
   ],
   "source": [
    "sns.catplot(x='elapsed_timedelta', data=df,kind='count')"
   ]
  },
  {
   "cell_type": "code",
   "execution_count": 21,
   "id": "9db64023",
   "metadata": {},
   "outputs": [
    {
     "data": {
      "text/plain": [
       "<seaborn.axisgrid.FacetGrid at 0x211479caeb0>"
      ]
     },
     "execution_count": 21,
     "metadata": {},
     "output_type": "execute_result"
    },
    {
     "data": {
      "image/png": "[encoded data removed]",
      "text/plain": [
       "<Figure size 360x360 with 1 Axes>"
      ]
     },
     "metadata": {
      "needs_background": "light"
     },
     "output_type": "display_data"
    }
   ],
   "source": [
    "sns.catplot(x='sample_date', data=df,kind='count')"
   ]
  },
  {
   "cell_type": "code",
   "execution_count": 22,
   "id": "a7408190",
   "metadata": {},
   "outputs": [
    {
     "data": {
      "text/plain": [
       "<seaborn.axisgrid.FacetGrid at 0x21147a82370>"
      ]
     },
     "execution_count": 22,
     "metadata": {},
     "output_type": "execute_result"
    },
    {
     "data": {
      "image/png": "[encoded data removed]",
      "text/plain": [
       "<Figure size 360x360 with 1 Axes>"
      ]
     },
     "metadata": {
      "needs_background": "light"
     },
     "output_type": "display_data"
    }
   ],
   "source": [
    "sns.catplot(x='plate_time', data=df,kind='count')"
   ]
  },
  {
   "cell_type": "markdown",
   "id": "77d0a874",
   "metadata": {},
   "source": [
    "Bovenstaande grafieken geven aan dat de proeven of monsters vaak rond dezelfde tijd gedaan zijn. We gaan nu verder met het verwijderen van kolommen die niet nuttig zijn voor het onderzoek."
   ]
  },
  {
   "cell_type": "code",
   "execution_count": 23,
   "id": "9de35158",
   "metadata": {},
   "outputs": [],
   "source": [
    "def verwijder(dataframe):\n",
    "    dataframe = df.drop(['elapsed_timedelta'], axis=1)\n",
    "    dataframe = df.drop(['sample_date'], axis=1)\n",
    "    dataframe = df.drop(['plate_time'], axis=1)\n",
    "    dataframe = df.drop(['width'], axis=1)\n",
    "    dataframe = df.drop(['height'], axis=1)\n",
    "    return dataframe"
   ]
  },
  {
   "cell_type": "code",
   "execution_count": 24,
   "id": "992e3d81",
   "metadata": {},
   "outputs": [],
   "source": [
    "df = verwijder(df)"
   ]
  },
  {
   "cell_type": "markdown",
   "id": "b7b22e2d",
   "metadata": {},
   "source": [
    "Wij hebben ervoor gekozen om de kolommen \"elapsed_timedelta\", \"sample_date\" en \"plate_time\" te verwijderen omdat dit tijd aangeeft. Dit hebben wij niet nodig voor oons onderzoek. \n",
    "Verder hebben wij \"Width\"en \"height\" verwijderd. Deze kolommen hebben beide maar 1 waarde en is daarom niet nuttig voor ons om mee te nemen in het onderzoek. Hieronder staat een voorbeeld van de uiteindelijke data set."
   ]
  },
  {
   "cell_type": "code",
   "execution_count": 27,
   "id": "83e7c1b4",
   "metadata": {},
   "outputs": [
    {
     "data": {
      "text/html": [
       "<div>\n",
       "<style scoped>\n",
       "    .dataframe tbody tr th:only-of-type {\n",
       "        vertical-align: middle;\n",
       "    }\n",
       "\n",
       "    .dataframe tbody tr th {\n",
       "        vertical-align: top;\n",
       "    }\n",
       "\n",
       "    .dataframe thead th {\n",
       "        text-align: right;\n",
       "    }\n",
       "</style>\n",
       "<table border=\"1\" class=\"dataframe\">\n",
       "  <thead>\n",
       "    <tr style=\"text-align: right;\">\n",
       "      <th></th>\n",
       "      <th>id</th>\n",
       "      <th>annotation</th>\n",
       "      <th>width</th>\n",
       "      <th>cell_type</th>\n",
       "      <th>plate_time</th>\n",
       "      <th>sample_date</th>\n",
       "      <th>sample_id</th>\n",
       "      <th>elapsed_timedelta</th>\n",
       "    </tr>\n",
       "  </thead>\n",
       "  <tbody>\n",
       "    <tr>\n",
       "      <th>0</th>\n",
       "      <td>0030fd0e6378</td>\n",
       "      <td>118145 6 118849 7 119553 8 120257 8 120961 9 1...</td>\n",
       "      <td>704</td>\n",
       "      <td>0</td>\n",
       "      <td>11h30m00s</td>\n",
       "      <td>2019-06-16</td>\n",
       "      <td>shsy5y[diff]_E10-4_Vessel-714_Ph_3</td>\n",
       "      <td>0 days 11:30:00</td>\n",
       "    </tr>\n",
       "    <tr>\n",
       "      <th>1</th>\n",
       "      <td>0030fd0e6378</td>\n",
       "      <td>189036 1 189739 3 190441 6 191144 7 191848 8 1...</td>\n",
       "      <td>704</td>\n",
       "      <td>0</td>\n",
       "      <td>11h30m00s</td>\n",
       "      <td>2019-06-16</td>\n",
       "      <td>shsy5y[diff]_E10-4_Vessel-714_Ph_3</td>\n",
       "      <td>0 days 11:30:00</td>\n",
       "    </tr>\n",
       "    <tr>\n",
       "      <th>2</th>\n",
       "      <td>0030fd0e6378</td>\n",
       "      <td>173567 3 174270 5 174974 5 175678 6 176382 7 1...</td>\n",
       "      <td>704</td>\n",
       "      <td>0</td>\n",
       "      <td>11h30m00s</td>\n",
       "      <td>2019-06-16</td>\n",
       "      <td>shsy5y[diff]_E10-4_Vessel-714_Ph_3</td>\n",
       "      <td>0 days 11:30:00</td>\n",
       "    </tr>\n",
       "    <tr>\n",
       "      <th>3</th>\n",
       "      <td>0030fd0e6378</td>\n",
       "      <td>196723 4 197427 6 198130 7 198834 8 199538 8 2...</td>\n",
       "      <td>704</td>\n",
       "      <td>0</td>\n",
       "      <td>11h30m00s</td>\n",
       "      <td>2019-06-16</td>\n",
       "      <td>shsy5y[diff]_E10-4_Vessel-714_Ph_3</td>\n",
       "      <td>0 days 11:30:00</td>\n",
       "    </tr>\n",
       "    <tr>\n",
       "      <th>4</th>\n",
       "      <td>0030fd0e6378</td>\n",
       "      <td>167818 3 168522 5 169225 7 169928 8 170632 9 1...</td>\n",
       "      <td>704</td>\n",
       "      <td>0</td>\n",
       "      <td>11h30m00s</td>\n",
       "      <td>2019-06-16</td>\n",
       "      <td>shsy5y[diff]_E10-4_Vessel-714_Ph_3</td>\n",
       "      <td>0 days 11:30:00</td>\n",
       "    </tr>\n",
       "    <tr>\n",
       "      <th>5</th>\n",
       "      <td>0030fd0e6378</td>\n",
       "      <td>205984 2 206687 4 207391 5 208095 5 208799 6 2...</td>\n",
       "      <td>704</td>\n",
       "      <td>0</td>\n",
       "      <td>11h30m00s</td>\n",
       "      <td>2019-06-16</td>\n",
       "      <td>shsy5y[diff]_E10-4_Vessel-714_Ph_3</td>\n",
       "      <td>0 days 11:30:00</td>\n",
       "    </tr>\n",
       "    <tr>\n",
       "      <th>6</th>\n",
       "      <td>0030fd0e6378</td>\n",
       "      <td>203101 2 203805 5 204509 7 205213 10 205917 12...</td>\n",
       "      <td>704</td>\n",
       "      <td>0</td>\n",
       "      <td>11h30m00s</td>\n",
       "      <td>2019-06-16</td>\n",
       "      <td>shsy5y[diff]_E10-4_Vessel-714_Ph_3</td>\n",
       "      <td>0 days 11:30:00</td>\n",
       "    </tr>\n",
       "    <tr>\n",
       "      <th>7</th>\n",
       "      <td>0030fd0e6378</td>\n",
       "      <td>191900 2 192604 3 193308 4 194012 5 194717 5 1...</td>\n",
       "      <td>704</td>\n",
       "      <td>0</td>\n",
       "      <td>11h30m00s</td>\n",
       "      <td>2019-06-16</td>\n",
       "      <td>shsy5y[diff]_E10-4_Vessel-714_Ph_3</td>\n",
       "      <td>0 days 11:30:00</td>\n",
       "    </tr>\n",
       "    <tr>\n",
       "      <th>8</th>\n",
       "      <td>0030fd0e6378</td>\n",
       "      <td>184848 3 185551 5 186254 7 186958 8 187662 9 1...</td>\n",
       "      <td>704</td>\n",
       "      <td>0</td>\n",
       "      <td>11h30m00s</td>\n",
       "      <td>2019-06-16</td>\n",
       "      <td>shsy5y[diff]_E10-4_Vessel-714_Ph_3</td>\n",
       "      <td>0 days 11:30:00</td>\n",
       "    </tr>\n",
       "    <tr>\n",
       "      <th>9</th>\n",
       "      <td>0030fd0e6378</td>\n",
       "      <td>165119 1 165822 4 166526 6 167230 9 167935 9 1...</td>\n",
       "      <td>704</td>\n",
       "      <td>0</td>\n",
       "      <td>11h30m00s</td>\n",
       "      <td>2019-06-16</td>\n",
       "      <td>shsy5y[diff]_E10-4_Vessel-714_Ph_3</td>\n",
       "      <td>0 days 11:30:00</td>\n",
       "    </tr>\n",
       "  </tbody>\n",
       "</table>\n",
       "</div>"
      ],
      "text/plain": [
       "             id                                         annotation  width  \\\n",
       "0  0030fd0e6378  118145 6 118849 7 119553 8 120257 8 120961 9 1...    704   \n",
       "1  0030fd0e6378  189036 1 189739 3 190441 6 191144 7 191848 8 1...    704   \n",
       "2  0030fd0e6378  173567 3 174270 5 174974 5 175678 6 176382 7 1...    704   \n",
       "3  0030fd0e6378  196723 4 197427 6 198130 7 198834 8 199538 8 2...    704   \n",
       "4  0030fd0e6378  167818 3 168522 5 169225 7 169928 8 170632 9 1...    704   \n",
       "5  0030fd0e6378  205984 2 206687 4 207391 5 208095 5 208799 6 2...    704   \n",
       "6  0030fd0e6378  203101 2 203805 5 204509 7 205213 10 205917 12...    704   \n",
       "7  0030fd0e6378  191900 2 192604 3 193308 4 194012 5 194717 5 1...    704   \n",
       "8  0030fd0e6378  184848 3 185551 5 186254 7 186958 8 187662 9 1...    704   \n",
       "9  0030fd0e6378  165119 1 165822 4 166526 6 167230 9 167935 9 1...    704   \n",
       "\n",
       "   cell_type plate_time sample_date                           sample_id  \\\n",
       "0          0  11h30m00s  2019-06-16  shsy5y[diff]_E10-4_Vessel-714_Ph_3   \n",
       "1          0  11h30m00s  2019-06-16  shsy5y[diff]_E10-4_Vessel-714_Ph_3   \n",
       "2          0  11h30m00s  2019-06-16  shsy5y[diff]_E10-4_Vessel-714_Ph_3   \n",
       "3          0  11h30m00s  2019-06-16  shsy5y[diff]_E10-4_Vessel-714_Ph_3   \n",
       "4          0  11h30m00s  2019-06-16  shsy5y[diff]_E10-4_Vessel-714_Ph_3   \n",
       "5          0  11h30m00s  2019-06-16  shsy5y[diff]_E10-4_Vessel-714_Ph_3   \n",
       "6          0  11h30m00s  2019-06-16  shsy5y[diff]_E10-4_Vessel-714_Ph_3   \n",
       "7          0  11h30m00s  2019-06-16  shsy5y[diff]_E10-4_Vessel-714_Ph_3   \n",
       "8          0  11h30m00s  2019-06-16  shsy5y[diff]_E10-4_Vessel-714_Ph_3   \n",
       "9          0  11h30m00s  2019-06-16  shsy5y[diff]_E10-4_Vessel-714_Ph_3   \n",
       "\n",
       "  elapsed_timedelta  \n",
       "0   0 days 11:30:00  \n",
       "1   0 days 11:30:00  \n",
       "2   0 days 11:30:00  \n",
       "3   0 days 11:30:00  \n",
       "4   0 days 11:30:00  \n",
       "5   0 days 11:30:00  \n",
       "6   0 days 11:30:00  \n",
       "7   0 days 11:30:00  \n",
       "8   0 days 11:30:00  \n",
       "9   0 days 11:30:00  "
      ]
     },
     "execution_count": 27,
     "metadata": {},
     "output_type": "execute_result"
    }
   ],
   "source": [
    "df.head(10)"
   ]
  },
  {
   "cell_type": "code",
   "execution_count": 25,
   "id": "733e0684",
   "metadata": {},
   "outputs": [
    {
     "data": {
      "text/plain": [
       "str"
      ]
     },
     "execution_count": 25,
     "metadata": {},
     "output_type": "execute_result"
    }
   ],
   "source": [
    "pad_naar_file2 = r\"C:\\Users\\liamf\\OneDrive - Hogeschool Leiden\\Documenten\\Northpool\\Image_Processing\\sartorius-cell-instance-segmentation\\test\\7ae19de7bc2a.png\"\n",
    "type(pad_naar_file2)"
   ]
  },
  {
   "cell_type": "code",
   "execution_count": 26,
   "id": "7088ca67",
   "metadata": {},
   "outputs": [
    {
     "name": "stdout",
     "output_type": "stream",
     "text": [
      "<dtype: 'uint8'>\n"
     ]
    },
    {
     "data": {
      "text/plain": [
       "<matplotlib.image.AxesImage at 0x21147b2a5e0>"
      ]
     },
     "execution_count": 26,
     "metadata": {},
     "output_type": "execute_result"
    },
    {
     "data": {
      "image/png": "[encoded data removed]",
      "text/plain": [
       "<Figure size 432x288 with 1 Axes>"
      ]
     },
     "metadata": {
      "needs_background": "light"
     },
     "output_type": "display_data"
    }
   ],
   "source": [
    "filterwarnings(\"ignore\") \n",
    "tf_img = io.read_file(pad_naar_file2)\n",
    "tf_img = image.decode_png(tf_img, channels=3)\n",
    "print(tf_img.dtype)\n",
    "plt.imshow(tf_img)"
   ]
  },
  {
   "cell_type": "code",
   "execution_count": null,
   "id": "c829c083",
   "metadata": {},
   "outputs": [],
   "source": []
  }
 ],
 "metadata": {
  "kernelspec": {
   "display_name": "Python 3",
   "language": "python",
   "name": "python3"
  },
  "language_info": {
   "codemirror_mode": {
    "name": "ipython",
    "version": 3
   },
   "file_extension": ".py",
   "mimetype": "text/x-python",
   "name": "python",
   "nbconvert_exporter": "python",
   "pygments_lexer": "ipython3",
   "version": "3.8.8"
  }
 },
 "nbformat": 4,
 "nbformat_minor": 5
}
