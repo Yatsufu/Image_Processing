{
 "cells": [
  {
   "cell_type": "markdown",
   "id": "8088653c",
   "metadata": {},
   "source": [
    "<div class=\"header\" id=\"Sartorius\">Sartorius - Cell Instance Segmentation<a class=\"anchor-link\" href=\"#Sartorius\"></a></div>"
   ]
  },
  {
   "cell_type": "markdown",
   "id": "48f7453b",
   "metadata": {},
   "source": [
    "<img src=\"https://storage.googleapis.com/kaggle-competitions/kaggle/30201/logos/header.png?t=2021-09-03-15-27-46.png\"\n",
    "     alt=\"Markdown neurone picture\"\n",
    "     style=\"\" />"
   ]
  },
  {
   "cell_type": "markdown",
   "id": "3a6298c8",
   "metadata": {},
   "source": [
    "<div class=\"smallheader\" id=\"Inhoud\">Danny Rovers<a class=\"anchor-link\" href=\"#Inhoud\"></a></div>\n",
    "<br></br>\n",
    "<div class=\"smallheader\" id=\"Inhoud\">Thomas Hendriks<a class=\"anchor-link\" href=\"#Inhoud\"></a></div>\n",
    "<br></br>\n",
    "<div class=\"smallheader\" id=\"Inhoud\">Liam Freke<a class=\"anchor-link\" href=\"#Inhoud\"></a></div>"
   ]
  },
  {
   "cell_type": "code",
   "execution_count": 1,
   "id": "e2dcebfb",
   "metadata": {},
   "outputs": [
    {
     "data": {
      "text/html": [
       "<style>.header {padding: 20px; text-align: center;background: #d564d9;\n",
       "color: white; font-size: 30px; font-weight: bold;}\n",
       ".smallheader {color: #d564d9;\n",
       "font-size: 25px;} </style>\n"
      ],
      "text/plain": [
       "<IPython.core.display.HTML object>"
      ]
     },
     "metadata": {},
     "output_type": "display_data"
    }
   ],
   "source": [
    "%%html\n",
    "<style>.header {padding: 20px; text-align: center;background: #d564d9;\n",
    "color: white; font-size: 30px; font-weight: bold;}\n",
    ".smallheader {color: #d564d9;\n",
    "font-size: 25px;} </style>"
   ]
  },
  {
   "cell_type": "markdown",
   "id": "b9df9532",
   "metadata": {},
   "source": [
    "<div class=\"header\" id=\"Inhoud\">Inhoud<a class=\"anchor-link\" href=\"#Inhoud\"></a></div>"
   ]
  },
  {
   "cell_type": "markdown",
   "id": "f75d6161",
   "metadata": {},
   "source": [
    "1. [Opdracht context](#Context)\n",
    "1. [Neuronen](#Neuronen)\n",
    "1. [Alzheimer](#Alzheimer)\n",
    "1. [Hersen tumor](#Hersentumor)\n",
    "1. [Libraries](#Libraries)\n",
    "1. [Data verkenning](#Imports)\n",
    "1. [Model](#Imports)\n",
    "1. [Uitvoering](#Imports)\n",
    "1. [Conclusie](#Imports)\n",
    "1. [Discussie](#Imports)\n",
    "0. [Referenties](#Referenties)"
   ]
  },
  {
   "cell_type": "markdown",
   "id": "d153d1d6",
   "metadata": {},
   "source": [
    "<div class=\"header\" id=\"Context\">Opdracht context<a class=\"anchor-link\" href=\"#Context\"></a></div>"
   ]
  },
  {
   "cell_type": "markdown",
   "id": "2a5dcea6",
   "metadata": {},
   "source": [
    "<div class='smallheader'>Vanuit school<div>"
   ]
  },
  {
   "cell_type": "markdown",
   "id": "81930d7e",
   "metadata": {},
   "source": [
    "Van de hogeschool hebben we als opdracht gekregen om door middel van imageprocessing annotaties te maken uit foto’s van neuronen. Artsen maken nu handmatig een annotatie met behulp van een foto. Het toepassen van computer algoritme om dit proces te automatiseren zou de artsen veel tijd besparen. Als een algoritme een hoge accuracy kan waarmaken is het mogelijk dit proces sneller en goedkoper te laten verlopen.\n",
    "\n",
    "De dataset komt uit een Kaggle competitie die eerder is afgesloten. We gebruiken deze dataset alsnog om onze kennis over imageprocessing te vergroten."
   ]
  },
  {
   "cell_type": "markdown",
   "id": "05fc63a7",
   "metadata": {},
   "source": [
    "<div class='smallheader'>Competitie overzicht<div>"
   ]
  },
  {
   "cell_type": "markdown",
   "id": "8602d7ba",
   "metadata": {},
   "source": [
    "De Kaggle competitie heeft als doel om in plaatjes relevante objecten te herkennen en uit te lichten. Deze plaatjes zijn van neuronen cell types die vaak gebruikt worden bij onderzoek naar neurologische aandoeningen. In de competitie is het doel om een model te trainen die met behulp van training images segmentatie van neuronen cellen kan uitvoeren. Hoe hoger de accuraatheid hoe beter.\n",
    "\n",
    "Als dit succesvol is wordt het onderzoek naar neurobiologie versterkt. Onderzoekers zullen gemakkelijker interessente objecten kunnen waarnemen in neuronen waardoor de kans dat ziektes eerder worden waargenomen toeneemt. Dit maakt het mogelijk om sneller deze ziektes te behandelen en misschien zelfs sneller nieuwe medicijnen te ontwikkelen."
   ]
  },
  {
   "cell_type": "markdown",
   "id": "2b8beb73",
   "metadata": {},
   "source": [
    ">**Link naar de Kaggle competitie**\n",
    ">- [Sartorius - Cell Instance Segmentation](https://www.kaggle.com/competitions/sartorius-cell-instance-segmentation/overview/description) "
   ]
  },
  {
   "cell_type": "markdown",
   "id": "025b9427",
   "metadata": {},
   "source": [
    "<div class='smallheader'>Evaluatie<div>"
   ]
  },
  {
   "cell_type": "markdown",
   "id": "2aa836e6",
   "metadata": {},
   "source": [
    "<mark>Nog vertalen en in normaal Nederlands uitleggen (vragen voor de les)</mark>"
   ]
  },
  {
   "cell_type": "markdown",
   "id": "412b4891",
   "metadata": {},
   "source": [
    "<img src=\"https://929687.smushcdn.com/2633864/wp-content/uploads/2016/09/iou_examples.png?lossy=1&strip=1&webp=1\"\n",
    "     alt=\"Markdown Alzheimer picture\"\n",
    "     style=\"\"/>"
   ]
  },
  {
   "cell_type": "markdown",
   "id": "4d50c633",
   "metadata": {},
   "source": [
    "<mark>In de eerste formule wordt uitgerekend wat de overlap is tussen de voorspellende waarde en de echte waarde. Bij AnB staat de waarde van de mask die ons model voorspelt. Bij AuB staat de exacte waarde van de mask die berekent is door de dokter. Hieruit komt een waarde onder de 1. De waardes tussen 0,5 en 0,95 worden gezien als accuraat.</mark>\n",
    "\n",
    "<mark>Alle waardes die tussen 0,5 en 0,95 worden gezien als hit en zijn dus true positives (TP). De waardes buiten 0,5 tot 0,95 worden gezien als false negatives(FN) of false positives (FP). De false negatives zijn waardes die ons model voorspelt heeft maar niet kloppen. En de false positives zijn waardes die ons model niet voorspelt heeft maar wel had moeten voorspellen.</mark>"
   ]
  },
  {
   "cell_type": "markdown",
   "id": "0e45a21c",
   "metadata": {},
   "source": [
    "This competition is evaluated on the mean average precision at different intersection over union (IoU) thresholds. The IoU of a proposed set of object pixels and a set of true object pixels is calculated as:"
   ]
  },
  {
   "cell_type": "markdown",
   "id": "9039f570",
   "metadata": {},
   "source": [
    "<div class=\"math\">\n",
    "\\begin{equation}\n",
    "  IoU(A,B) = \\frac{A \\cap B}{ A \\cup B}.\n",
    "\\end{equation}\n",
    "</div>"
   ]
  },
  {
   "cell_type": "markdown",
   "id": "5b104439",
   "metadata": {},
   "source": [
    "The metric sweeps over a range of IoU thresholds, at each point calculating an average precision value. The threshold values range from 0.5 to 0.95 with a step size of ```0.05: (0.5, 0.55, 0.6, 0.65, 0.7, 0.75, 0.8, 0.85, 0.9, 0.95).``` In other words, at a threshold of 0.5, a predicted object is considered a \"hit\" if its intersection over union with a ground truth object is greater than 0.5.\n",
    "\n",
    "At each threshold value ***t***, a precision value is calculated based on the number of true positives (TP), false negatives (FN), and false positives (FP) resulting from comparing the predicted object to all ground truth objects:"
   ]
  },
  {
   "cell_type": "markdown",
   "id": "0c3cf872",
   "metadata": {},
   "source": [
    "<div class=\"math\">\n",
    "\\begin{equation}\n",
    "  \\frac{TP(t)}{TP(t) + FP(t) + FN(t)}.\n",
    "\\end{equation}\n",
    "</div>"
   ]
  },
  {
   "cell_type": "markdown",
   "id": "4c61e901",
   "metadata": {},
   "source": [
    "A true positive is counted when a single predicted object matches a ground truth object with an IoU above the threshold. A false positive indicates a predicted object had no associated ground truth object. A false negative indicates a ground truth object had no associated predicted object. The average precision of a single image is then calculated as the mean of the above precision values at each IoU threshold:"
   ]
  },
  {
   "cell_type": "markdown",
   "id": "6ba6c5c7",
   "metadata": {},
   "source": [
    "<div class=\"math\">\n",
    "\\begin{equation}\n",
    "  \\frac{1}{|thresholds|} \\sum_t \\frac{TP(t)}{TP(t) + FP(t) + FN(t)}.\n",
    "\\end{equation}\n",
    "</div>"
   ]
  },
  {
   "cell_type": "markdown",
   "id": "461fb795",
   "metadata": {},
   "source": [
    "Lastly, the score returned by the competition metric is the mean taken over the individual average precisions of each image in the test dataset."
   ]
  },
  {
   "cell_type": "markdown",
   "id": "71519635",
   "metadata": {},
   "source": [
    ">**Extra informatie / bronnen betreft de formules**\n",
    ">- [Intersection over Union (IoU) for object detection](https://pyimagesearch.com/2016/11/07/intersection-over-union-iou-for-object-detection/) "
   ]
  },
  {
   "cell_type": "markdown",
   "id": "f31a88a4",
   "metadata": {},
   "source": [
    "<div class=\"header\" id=\"Neuronen\">Neuronen<a class=\"anchor-link\" href=\"#Neuronen\"></a></div>"
   ]
  },
  {
   "cell_type": "markdown",
   "id": "c91144a1",
   "metadata": {},
   "source": [
    "In de dataset worden er drie verschillende cell types gedifineerd. Het is belangrijk om de context te weten van deze cellen en waar ze voor dienen."
   ]
  },
  {
   "cell_type": "markdown",
   "id": "bf4174ca",
   "metadata": {},
   "source": [
    "<img style=\"text-align: left\" src=\"https://storage.googleapis.com/kaggle-media/competitions/Sartorius/Sartorius_Competition%20Description%20Image%20350x379.png\"\n",
    "     alt=\"Markdown Alzheimer picture\"\n",
    "     style=\"\" />"
   ]
  },
  {
   "cell_type": "markdown",
   "id": "45ffd207",
   "metadata": {},
   "source": [
    "<div class='smallheader'>SH-SY5Y<div>"
   ]
  },
  {
   "cell_type": "markdown",
   "id": "edfa66ed",
   "metadata": {},
   "source": [
    "De cell type ```SH-SY5Y (Neuroglioblastoma)``` is een cell lijn die afgestamd is van mensen. De originele cell lijn genaamd ```SK-N-SH``` is gekloond vanuit de beenmerg van een 4 jaar oud kind met neuroblastoma. ```SH-SY5Y``` cellen worden vaak gebruikt om ziektes zoals Parkinson's, neurogenesis en andere ziektes te bestuderen."
   ]
  },
  {
   "cell_type": "markdown",
   "id": "480a7602",
   "metadata": {},
   "source": [
    "<div class='smallheader'>Astrocytes<div>"
   ]
  },
  {
   "cell_type": "markdown",
   "id": "33c2770d",
   "metadata": {},
   "source": [
    "De cell type ```Astrocytes (Astroglia)``` is ster gevormde *glial cell* die te vinden is in het brein en in de ruggenmerg. \n",
    "\n",
    "Ze hebben diverse functies zoals: \n",
    "- Voedingstoffen vervoeren naar zenuwweefsel.\n",
    "- Onderhouden van het Ion balans.\n",
    "- Regulatie van de bloedsomloop in het brein.\n",
    "- Onderdeel van de reparatie van schade in het brein of ruggenmerg."
   ]
  },
  {
   "cell_type": "markdown",
   "id": "d9b65cc7",
   "metadata": {},
   "source": [
    "<div class='smallheader'>Neuronen van Cerebral Cortex<div>"
   ]
  },
  {
   "cell_type": "markdown",
   "id": "bb7a429b",
   "metadata": {},
   "source": [
    "De ```Cerebral Cortex (Cerebral Mantle)``` is de buitenste laag van de grote hersenen binnen het brein. De ```Cerebral Cortex``` bevat tussen de 14 en 16 biljoen *Neuronen*, deze *Neuronen* onderzoeken wij.\n",
    "\n",
    "Het heeft diverse functies zoals:\n",
    "\n",
    "- Connecties tussen brein delen.\n",
    "- Voorziet Sensorische functies.\n",
    "- Voorziet Motorsche functies.\n",
    "\n",
    "*Neuronen* binnen de ```Cerebral Cortex``` kunnen onderzocht worden, hiermee kunnen verschillende ziektes herkent worden zoals: Alzheimer's, Lafora, Nerurologische ziektes, Epilepsy en nog veel meer."
   ]
  },
  {
   "cell_type": "markdown",
   "id": "ec6b7c13",
   "metadata": {},
   "source": [
    ">**Extra informatie / bronnen betreft de cel types**\n",
    ">- [SH-SY5Y](https://en.wikipedia.org/wiki/SH-SY5Y) \n",
    ">- [Astrocyte](https://en.wikipedia.org/wiki/Astrocyte)\n",
    ">- [Cerebral cortex](https://en.wikipedia.org/wiki/Cerebral_cortex#Function) "
   ]
  },
  {
   "cell_type": "markdown",
   "id": "42d95e0c",
   "metadata": {},
   "source": [
    "<div class=\"header\" id=\"Alzheimer\">Alzheimer ziekte<a class=\"anchor-link\" href=\"#Alzheimer\"></a></div>"
   ]
  },
  {
   "cell_type": "markdown",
   "id": "a0565938",
   "metadata": {},
   "source": [
    "<img src=\"https://herseninstituut.nl/wp-content/uploads/2018/06/Alzheimer-pixabay.jpg\"\n",
    "     alt=\"Markdown Alzheimer picture\"\n",
    "     style=\"\" />"
   ]
  },
  {
   "cell_type": "markdown",
   "id": "551c0ada",
   "metadata": {},
   "source": [
    "<div class='smallheader'>Wat is Alzheimer?<div>"
   ]
  },
  {
   "cell_type": "markdown",
   "id": "969086f2",
   "metadata": {},
   "source": [
    "Alzheimer is de meest voorkomende oorzaak van dementie. Alzheimer is de oorzaak van 60-80% van de\n",
    "dementie gevallen (Alzheimer's assosiation, n.d.).\n",
    "\n",
    "De grootste bekende risicofactor is toenemende leeftijd. De meerderheid van de mensen die alzheimer\n",
    "hebben is 65 jaar of ouder.\n",
    "\n",
    "Alzheimer wordt erger over de tijd heen. In de beginfase van de ziekte is het geheugenverlies minimaal,\n",
    "maar gedurende de tijd zal het geheugenverlies toenemen. Ook zal een persoon niet meer kunnen\n",
    "communiceren en reageren op zijn omgeving.\n",
    "\n",
    "Alzheimer heeft nog geen geneesmiddel. De eerste stappen binnen het maken van een werkend\n",
    "geneesmiddel voor de beginfase van de ziekte zijn gemaakt. Er is namelijk een behandeling\n",
    "(Aducanumab) die werkt bij het verwijderen van amyloid, wat een van de kenmerken van de ziekte is\n",
    "(Alzheimer's assosiation, n.d.). "
   ]
  },
  {
   "cell_type": "markdown",
   "id": "c0eff3f9",
   "metadata": {},
   "source": [
    "<div class='smallheader'>Hoe kun je Alzheimer herkennen?<div>"
   ]
  },
  {
   "cell_type": "markdown",
   "id": "998cc9ff",
   "metadata": {},
   "source": [
    "Microscopische veranderingen in de hersenen beginnen lang voor de eerste tekenen van\n",
    "geheugenverlies.\n",
    "\n",
    "De hersenen hebben 100 miljard zenuwcellen (neuronen). Elke neuron verbind met veel andere\n",
    "neuronen om communicatie netwerken te vormen. Dit maakt alles wat een mens doet mogelijk.\n",
    "Alzheimer is te herkennen door middel van (Alzheimer Nederland, n.d.):\n",
    "- Vergeetachtigheid;\n",
    "- Problemen bij het dagelijks handelen;\n",
    "- Taalproblemen;\n",
    "- Kwijtraken van spullen;\n",
    "- Slecht beoordelingsvermogen;\n",
    "- Terugtrekken uit sociale activiteiten;\n",
    "- Onrust.\n",
    "\n",
    "Artsen kunnen door naar microscopische foto’s te kijken de eerste tekenen van het ontwikkelen van\n",
    "Alzheimer herkennen."
   ]
  },
  {
   "cell_type": "markdown",
   "id": "6f542dfc",
   "metadata": {},
   "source": [
    "<div class='smallheader'>Hoe werken neuronen precies?<div>"
   ]
  },
  {
   "cell_type": "markdown",
   "id": "7ae57331",
   "metadata": {},
   "source": [
    "Neuronen communiceren met elkaar door elektrische signalen in hun axons te sturenen. Axons zijn de lange aanhangsels die aan het midden van de neuron vastzit. Als het elektrische signaal bij het einde van de axon komt geeft het een chemisch signaal af die wordt opgevangen door de axon van de tegenoverliggende cel."
   ]
  },
  {
   "cell_type": "markdown",
   "id": "392a6f73",
   "metadata": {},
   "source": [
    "<div class='smallheader'>Hoe is Alzheimer te herkennen op cel niveau?<div>"
   ]
  },
  {
   "cell_type": "markdown",
   "id": "1a58b00f",
   "metadata": {},
   "source": [
    "De cellen van alzheimer patiënten worden langzaam gevuld met het proteïne Tau, wat ervoor zorgt dat er ophopingen ontstaan in de neuronen. Verder wordt het proteïne beta-amyloid buiten de neuron opgehoopt in plaques. Deze plaques kunnen de communicatie tussen neuronen blokkeren. Deze combinatie samen zorgt waarschijnlijk voor een giftig reactie in de hersenen. Waardoor axonen van neuronen geen signalen kunnen overbrengen en dus langzaam afsterven. In afbeeldingen kan je dit zien aan verminderde axonen van de neuron."
   ]
  },
  {
   "cell_type": "markdown",
   "id": "4d7e9290",
   "metadata": {},
   "source": [
    "<div class='smallheader'>De oorzaak van alzheimer.<div>"
   ]
  },
  {
   "cell_type": "markdown",
   "id": "139e1647",
   "metadata": {},
   "source": [
    "Wetenschappers geloven dat alzheimer voorkomt dat gedeeltes van de fabriek van een neuron goed\n",
    "blijven werken. Er is echter nog niet duidelijk hoe dit proces in gang wordt gezet. Wel heeft leeftijd\n",
    "invloed op de kans dat je Alzheimer ontwikkeld (Alzheimer's assosiation, n.d.)."
   ]
  },
  {
   "cell_type": "markdown",
   "id": "00da7ec3",
   "metadata": {},
   "source": [
    ">**Extra informatie / bronnen betreft Alzheimer**\n",
    ">- [Alzheimer Nederland. (sd). Herkennen en symptomen van dementie](https://www.alzheimer-nederland.nl/dementie/herkennen-symptomen) \n",
    ">- [Alzheimer's assosiation. (sd). What is Alzheimer’s Disease?](https://www.alz.org/alzheimers-dementia/what-is-alzheimers)\n",
    ">- [What Happens to the Brain in Alzheimer's Disease?](https://www.nia.nih.gov/health/what-happens-brain-alzheimers-disease) \n",
    ">- [Pyramidal cell axon initial segment in Alzheimer´s disease](https://www.ncbi.nlm.nih.gov/pmc/articles/PMC9130508/) "
   ]
  },
  {
   "cell_type": "markdown",
   "id": "95cfe331",
   "metadata": {},
   "source": [
    "<div class=\"header\" id=\"Hersentumor\">Hersen tumor <a class=\"anchor-link\" href=\"#Hersentumor\"></a></div>"
   ]
  },
  {
   "cell_type": "markdown",
   "id": "e7867795",
   "metadata": {},
   "source": [
    "<div class='smallheader'>Wat is een Hersentumor?<div>"
   ]
  },
  {
   "cell_type": "markdown",
   "id": "caf6368e",
   "metadata": {},
   "source": [
    "Een tumor (gezwel) in de hersenen ontstaat wanneer hersencellen ongecontroleerd gaan delen en\n",
    "groeien (Kanker.nl, n.d.). Een hersentumor kan goedaardig of kwaadaardig zijn. Bij kwaadaardige\n",
    "tumoren praat je over een kanker. Een kwaadaardige hersentumor heet ook wel hersenkanker.\n",
    "\n",
    "Een kwaadaardige hersentumor kan uitzaaien naar andere delen van de hersens of het ruggenmerg. Een\n",
    "kwaadaardige hersentumor zaait zelden uit naar andere delen van het lichaam (Kanker.nl, n.d.)."
   ]
  },
  {
   "cell_type": "markdown",
   "id": "4a52cf32",
   "metadata": {},
   "source": [
    "<div class='smallheader'>De symptomen van een hersentumor.<div>"
   ]
  },
  {
   "cell_type": "markdown",
   "id": "7fdc55c4",
   "metadata": {},
   "source": [
    "Een tumor in de hersenen kan invloed hebben op de werking van de hersenen en daardoor klachten\n",
    "geven. Dat geldt zowel voor kwaadaardige als goedaardige tumoren in de hersenen.\n",
    "\n",
    "Veelvoorkomende symptomen van een hersentumor zijn:\n",
    "- Aanhoudende hoofdpijn;\n",
    "- Verandering in verstandelijk vermogen en gedrag;\n",
    "- Uitvalsverschijnselen;\n",
    "- Epileptische aanvallen.\n",
    "\n",
    "De symptomen van een hersentumor verschillen heel erg per persoon. De grootte, groeisnelheid en de\n",
    "plaats hebben sterk invloed op de symptomen die iemand ervaart (Kanker.nl, n.d.)."
   ]
  },
  {
   "cell_type": "markdown",
   "id": "7e0734a5",
   "metadata": {},
   "source": [
    "<div class='smallheader'>Hoe is een hersen tumor te herkennen op cel niveau?<div>"
   ]
  },
  {
   "cell_type": "markdown",
   "id": "0898a466",
   "metadata": {},
   "source": [
    "Er zijn verschillende types van hersen tumoren die in de hersenen ontstaan. In de hersenen komen type 1 en 2 het meeste voor. Type 3 komt heel soms en voor en type 4 komt niet uit zichzelf voor. Type 1 is een langzaam groeiende tumor die erg moeilijk te herkennen is omdat ze erg lijken op gewonnen cellen. Type 1 cellen zijn langzaam groeiend en kan lang mee geleefd worden. Type 2 is een iets sneller groeiende cel die er iets anders uit ziet dan normale cellen en dus nog moeilijk te herkennen is, maar beter herkenbaar is dan type 1 cellen. Type 3 cellen groeien hard en hebben een erg ander uiterlijk dan normale cellen.\n",
    "\n",
    "De vormen die ontstaan in neuronen zijn bijna altijd van type 1 en 2 in bevinden zich in de hippocampus. De vervormingen die te zien zijn bij neuronen zijn vervormingen van de cellen en andere kleur."
   ]
  },
  {
   "cell_type": "markdown",
   "id": "274a6842",
   "metadata": {},
   "source": [
    "<div class='smallheader'>Wat zijn de oorzaken van een hersentumor?<div>"
   ]
  },
  {
   "cell_type": "markdown",
   "id": "71569598",
   "metadata": {},
   "source": [
    "De oorzaak van hersentumoren is nog steeds onbekend. Er is wel gedacht dat een virus, straling, een\n",
    "ongelukken of het contact met chemische stoffen de oorzaken kunnen zijn. Dit is echter nog niet\n",
    "bewezen. Er is soms wel een erfelijke component, met meerdere patiënten met gezwellen in één familie\n",
    "(Maxima mc, n.d.)."
   ]
  },
  {
   "cell_type": "markdown",
   "id": "777b6b01",
   "metadata": {},
   "source": [
    ">**Extra informatie / bronnen betreft hersen tumors**\n",
    ">- [Wat is een hersentumor?](https://www.kanker.nl/kankersoorten/hersentumoren/algemeen/wat-is-een-hersentumor#:~:text=Een%20tumor%20(gezwel)%20in%20de,dan%20bij%20veel%20andere%2) \n",
    ">- [Hersentumor](https://www.mmc.nl/oncologie/aandoeningen-en-behandelingen/hersentumor/#:~:text=De%20oorzaak%20van%20echte%20of,met%20gezwellen%20in%20%C3%A9%C3%A9n%20familie.)"
   ]
  },
  {
   "cell_type": "markdown",
   "id": "84eac47d",
   "metadata": {},
   "source": [
    "<div class=\"header\" id=\"Libraries\">Libraries<a class=\"anchor-link\" href=\"#Libraries\"></a></div>"
   ]
  },
  {
   "cell_type": "code",
   "execution_count": null,
   "id": "75b84153",
   "metadata": {},
   "outputs": [],
   "source": []
  },
  {
   "cell_type": "code",
   "execution_count": null,
   "id": "21ad8fbf",
   "metadata": {},
   "outputs": [],
   "source": []
  },
  {
   "cell_type": "code",
   "execution_count": null,
   "id": "c8bc4b8b",
   "metadata": {},
   "outputs": [],
   "source": []
  },
  {
   "cell_type": "code",
   "execution_count": null,
   "id": "f156de3a",
   "metadata": {},
   "outputs": [],
   "source": []
  },
  {
   "cell_type": "code",
   "execution_count": null,
   "id": "0c27971d",
   "metadata": {},
   "outputs": [],
   "source": []
  },
  {
   "cell_type": "code",
   "execution_count": null,
   "id": "bff873cc",
   "metadata": {},
   "outputs": [],
   "source": []
  },
  {
   "cell_type": "markdown",
   "id": "e0f07245",
   "metadata": {},
   "source": [
    "<div class=\"header\" id=\"Referenties\">Referenties<a class=\"anchor-link\" href=\"#Referenties\"></a></div>"
   ]
  },
  {
   "cell_type": "markdown",
   "id": "e32fe6f3",
   "metadata": {},
   "source": [
    "> **Context:**\n",
    ">- [Wat is een hersentumor?](https://www.kanker.nl/kankersoorten/hersentumoren/algemeen/wat-is-een-hersentumor#:~:text=Een%20tumor%20(gezwel)%20in%20de,dan%20bij%20veel%20andere%2) \n",
    ">- [Hersentumor](https://www.mmc.nl/oncologie/aandoeningen-en-behandelingen/hersentumor/#:~:text=De%20oorzaak%20van%20echte%20of,met%20gezwellen%20in%20%C3%A9%C3%A9n%20familie.)\n",
    ">- [Alzheimer Nederland. (sd). Herkennen en symptomen van dementie](https://www.alzheimer-nederland.nl/dementie/herkennen-symptomen) \n",
    ">- [Alzheimer's assosiation. (sd). What is Alzheimer’s Disease?](https://www.alz.org/alzheimers-dementia/what-is-alzheimers)\n",
    ">- [What Happens to the Brain in Alzheimer's Disease?](https://www.nia.nih.gov/health/what-happens-brain-alzheimers-disease) \n",
    ">- [Pyramidal cell axon initial segment in Alzheimer´s disease](https://www.ncbi.nlm.nih.gov/pmc/articles/PMC9130508/)\n",
    ">- [SH-SY5Y](https://en.wikipedia.org/wiki/SH-SY5Y) \n",
    ">- [Astrocyte](https://en.wikipedia.org/wiki/Astrocyte)\n",
    ">- [Cerebral cortex](https://en.wikipedia.org/wiki/Cerebral_cortex#Function) \n",
    ">- [Intersection over Union (IoU) for object detection](https://pyimagesearch.com/2016/11/07/intersection-over-union-iou-for-object-detection/)  \n",
    ">\n",
    "> **Code:**\n",
    ">- [🧬Sartorius:🧬 InDepth EDA + Explanation + Model](https://www.kaggle.com/code/ishandutta/sartorius-indepth-eda-explanation-model/notebook) \n",
    ">- [Understanding Run Length Encoding and Decoding](https://www.kaggle.com/code/susnato/understanding-run-length-encoding-and-decoding/notebook)\n",
    ">- [Everything about Mask R-CNN: A Beginner's Guide](https://viso.ai/deep-learning/mask-r-cnn/) \n",
    ">- [🦠 Sartorius - Starter Baseline Torch U-net [>0.0]](https://www.kaggle.com/code/julian3833/sartorius-starter-baseline-torch-u-net-0-0?scriptVersionId=78653910)"
   ]
  },
  {
   "cell_type": "code",
   "execution_count": null,
   "id": "31bdffd5",
   "metadata": {},
   "outputs": [],
   "source": []
  }
 ],
 "metadata": {
  "kernelspec": {
   "display_name": "Python 3 (ipykernel)",
   "language": "python",
   "name": "python3"
  },
  "language_info": {
   "codemirror_mode": {
    "name": "ipython",
    "version": 3
   },
   "file_extension": ".py",
   "mimetype": "text/x-python",
   "name": "python",
   "nbconvert_exporter": "python",
   "pygments_lexer": "ipython3",
   "version": "3.9.7"
  }
 },
 "nbformat": 4,
 "nbformat_minor": 5
}
