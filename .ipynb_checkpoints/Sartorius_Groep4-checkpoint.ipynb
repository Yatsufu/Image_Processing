{
 "cells": [
  {
   "cell_type": "markdown",
   "id": "bb34e20f",
   "metadata": {},
   "source": [
    "<div class=\"header\" id=\"Sartorius\">Sartorius - Cell Instance Segmentation<a class=\"anchor-link\" href=\"#Sartorius\"></a></div>"
   ]
  },
  {
   "cell_type": "markdown",
   "id": "093a8f85",
   "metadata": {},
   "source": [
    "<img src=\"https://storage.googleapis.com/kaggle-competitions/kaggle/30201/logos/header.png?t=2021-09-03-15-27-46.png\"\n",
    "     alt=\"Markdown neurone picture\"\n",
    "     style=\"\" />"
   ]
  },
  {
   "cell_type": "markdown",
   "id": "655e8b03",
   "metadata": {},
   "source": [
    "**Auteurs:**\n",
    "\n",
    "Groep 4\n",
    "- Liam Freke\n",
    "- Thomas Hendriks\n",
    "- Danny Rovers"
   ]
  },
  {
   "cell_type": "code",
   "execution_count": 39,
   "id": "316646c1",
   "metadata": {},
   "outputs": [
    {
     "data": {
      "text/html": [
       "<style>.header {padding: 20px; text-align: center;background: #d564d9;\n",
       "color: white; font-size: 30px; font-weight: bold;}\n",
       ".smallheader {color: #d564d9;\n",
       "font-size: 25px;} </style>\n"
      ],
      "text/plain": [
       "<IPython.core.display.HTML object>"
      ]
     },
     "metadata": {},
     "output_type": "display_data"
    }
   ],
   "source": [
    "%%html\n",
    "<style>.header {padding: 20px; text-align: center;background: #d564d9;\n",
    "color: white; font-size: 30px; font-weight: bold;}\n",
    ".smallheader {color: #d564d9;\n",
    "font-size: 25px;} </style>"
   ]
  },
  {
   "cell_type": "markdown",
   "id": "62003dfc",
   "metadata": {},
   "source": [
    "<div class=\"header\" id=\"Inhoud\">Inhoud<a class=\"anchor-link\" href=\"#Inhoud\"></a></div>"
   ]
  },
  {
   "cell_type": "markdown",
   "id": "7d9e903b",
   "metadata": {},
   "source": [
    "1. [Opdracht context](#Context)\n",
    "1. [Neuronen](#Neuronen)\n",
    "1. [Alzheimer](#Alzheimer)\n",
    "1. [Hersen tumor](#Hersentumor)\n",
    "1. [Libraries](#Libraries)\n",
    "1. [Data verkenning](#Imports)\n",
    "1. [Model](#Imports)\n",
    "1. [Uitvoering](#Imports)\n",
    "1. [Conclusie](#Imports)\n",
    "1. [Discussie](#Imports)"
   ]
  },
  {
   "cell_type": "markdown",
   "id": "8df5de11",
   "metadata": {},
   "source": [
    "<div class=\"header\" id=\"Context\">Opdracht context<a class=\"anchor-link\" href=\"#Context\"></a></div>"
   ]
  },
  {
   "cell_type": "markdown",
   "id": "2a4551dc",
   "metadata": {},
   "source": [
    "<div class='smallheader'>Vanuit school<div>"
   ]
  },
  {
   "cell_type": "code",
   "execution_count": null,
   "id": "3959bd41",
   "metadata": {},
   "outputs": [],
   "source": []
  },
  {
   "cell_type": "markdown",
   "id": "530ae4b7",
   "metadata": {},
   "source": [
    "<div class='smallheader'>Competitie overzicht<div>"
   ]
  },
  {
   "cell_type": "markdown",
   "id": "e0303879",
   "metadata": {},
   "source": [
    "De Kaggle competitie heeft als doel om in plaatjes relevante objecten te herkennen en uit te lichten. Deze plaatjes zijn van neuronen cell types die vaak gebruikt worden bij onderzoek naar neurologische aandoeningen. In de competitie is het doel om een model te trainen die met behulp van training images segmentatie van neuronen cellen kan uitvoeren. Hoe hoger de accuraatheid hoe beter.\n",
    "\n",
    "Als dit succesvol is wordt het onderzoek naar neurobiologie versterkt. Onderzoekers zullen gemakkelijker interessente objecten kunnen waarnemen in neuronen waardoor de kans dat ziektes eerder worden waargenomen toeneemt. Dit maakt het mogelijk om sneller deze ziektes te behandelen en misschien zelfs sneller nieuwe medicijnen te ontwikkelen."
   ]
  },
  {
   "cell_type": "markdown",
   "id": "ba2738a7",
   "metadata": {},
   "source": [
    "<div class='smallheader'>Evaluatie<div>"
   ]
  },
  {
   "cell_type": "markdown",
   "id": "6b022cfd",
   "metadata": {},
   "source": [
    "<mark>Nog vertalen en in normaal Nederlands uitleggen (vragen voor de les)</mark>"
   ]
  },
  {
   "cell_type": "markdown",
   "id": "41ad2327",
   "metadata": {},
   "source": [
    "<img src=\"https://929687.smushcdn.com/2633864/wp-content/uploads/2016/09/iou_examples.png?lossy=1&strip=1&webp=1\"\n",
    "     alt=\"Markdown Alzheimer picture\"\n",
    "     style=\"\"/>"
   ]
  },
  {
   "cell_type": "markdown",
   "id": "db1ea145",
   "metadata": {},
   "source": [
    "This competition is evaluated on the mean average precision at different intersection over union (IoU) thresholds. The IoU of a proposed set of object pixels and a set of true object pixels is calculated as:"
   ]
  },
  {
   "cell_type": "markdown",
   "id": "c1bfe736",
   "metadata": {},
   "source": [
    "<div class=\"math\">\n",
    "\\begin{equation}\n",
    "  IoU(A,B) = \\frac{A \\cap B}{ A \\cup B}.\n",
    "\\end{equation}\n",
    "</div>"
   ]
  },
  {
   "cell_type": "markdown",
   "id": "dff6e4ef",
   "metadata": {},
   "source": [
    "The metric sweeps over a range of IoU thresholds, at each point calculating an average precision value. The threshold values range from 0.5 to 0.95 with a step size of ```0.05: (0.5, 0.55, 0.6, 0.65, 0.7, 0.75, 0.8, 0.85, 0.9, 0.95).``` In other words, at a threshold of 0.5, a predicted object is considered a \"hit\" if its intersection over union with a ground truth object is greater than 0.5.\n",
    "\n",
    "At each threshold value ***t***, a precision value is calculated based on the number of true positives (TP), false negatives (FN), and false positives (FP) resulting from comparing the predicted object to all ground truth objects:"
   ]
  },
  {
   "cell_type": "markdown",
   "id": "cbc36912",
   "metadata": {},
   "source": [
    "<div class=\"math\">\n",
    "\\begin{equation}\n",
    "  \\frac{TP(t)}{TP(t) + FP(t) + FN(t)}.\n",
    "\\end{equation}\n",
    "</div>"
   ]
  },
  {
   "cell_type": "markdown",
   "id": "49295526",
   "metadata": {},
   "source": [
    "A true positive is counted when a single predicted object matches a ground truth object with an IoU above the threshold. A false positive indicates a predicted object had no associated ground truth object. A false negative indicates a ground truth object had no associated predicted object. The average precision of a single image is then calculated as the mean of the above precision values at each IoU threshold:"
   ]
  },
  {
   "cell_type": "markdown",
   "id": "6f58fc56",
   "metadata": {},
   "source": [
    "<div class=\"math\">\n",
    "\\begin{equation}\n",
    "  \\frac{1}{|thresholds|} \\sum_t \\frac{TP(t)}{TP(t) + FP(t) + FN(t)}.\n",
    "\\end{equation}\n",
    "</div>"
   ]
  },
  {
   "cell_type": "markdown",
   "id": "214f5e38",
   "metadata": {},
   "source": [
    "Lastly, the score returned by the competition metric is the mean taken over the individual average precisions of each image in the test dataset."
   ]
  },
  {
   "cell_type": "markdown",
   "id": "27cffc32",
   "metadata": {},
   "source": [
    "**Extra informatie / bronnen betreft de formules**\n",
    "- [Intersection over Union (IoU) for object detection](https://pyimagesearch.com/2016/11/07/intersection-over-union-iou-for-object-detection/) "
   ]
  },
  {
   "cell_type": "markdown",
   "id": "48ee5fd6",
   "metadata": {},
   "source": [
    "<div class=\"header\" id=\"Neuronen\">Neuronen<a class=\"anchor-link\" href=\"#Neuronen\"></a></div>"
   ]
  },
  {
   "cell_type": "markdown",
   "id": "e07cfbf6",
   "metadata": {},
   "source": [
    "In de dataset worden er drie verschillende cell types gedifineerd. Het is belangrijk om de context te weten van deze cellen en waar ze voor dienen."
   ]
  },
  {
   "cell_type": "markdown",
   "id": "c128a878",
   "metadata": {},
   "source": [
    "<div class='smallheader'>SH-SY5Y<div>"
   ]
  },
  {
   "cell_type": "markdown",
   "id": "55b72dcc",
   "metadata": {},
   "source": [
    "Het cell type ```SH-SY5Y``` is een cell lijn die afgestamd is van mensen. De originele cell lijn genaamd ```SK-N-SH``` is gekloond vanuit de beenmerg van een 4 jaar oud kind met neuroblastoma. ```SH-SY5Y``` cellen worden vaak gebruikt om ziektes zoals Parkinson's, neurogenesis en andere ziektes te bestuderen."
   ]
  },
  {
   "cell_type": "markdown",
   "id": "63c2c8b2",
   "metadata": {},
   "source": [
    "<div class='smallheader'>Astrocytes<div>"
   ]
  },
  {
   "cell_type": "markdown",
   "id": "d9e7edbe",
   "metadata": {},
   "source": []
  },
  {
   "cell_type": "markdown",
   "id": "06c77cfe",
   "metadata": {},
   "source": [
    "<div class='smallheader'>Cerebral Cortex (Neuronen)<div>"
   ]
  },
  {
   "cell_type": "markdown",
   "id": "9f287ff0",
   "metadata": {},
   "source": []
  },
  {
   "cell_type": "markdown",
   "id": "fd582fce",
   "metadata": {},
   "source": [
    "### Cell types ###\n",
    "\n",
    "| Cell type | Volledige naam | Omschrijving |\n",
    "| :--- | :--- | :--- |\n",
    "| shsy5y | SH-SY5Y / Neuroglioblastome | Een cell lijn afgestamd van beenmerg |\n",
    "| astro | Astrocytes  | Een subtype van Glial cellen in het centrale zenuwstelsel |\n",
    "| cort | Neuronen / cerebral cortex | Neuronen in de hersenschors |"
   ]
  },
  {
   "cell_type": "markdown",
   "id": "f88efbff",
   "metadata": {},
   "source": [
    "**Extra informatie / bronnen betreft de celtypes**\n",
    "- [SH-SY5Y](https://en.wikipedia.org/wiki/SH-SY5Y) \n",
    "- [Alzheimer's assosiation. (sd). What is Alzheimer’s Disease?](https://www.alz.org/alzheimers-dementia/what-is-alzheimers)\n",
    "- [What Happens to the Brain in Alzheimer's Disease?](https://www.nia.nih.gov/health/what-happens-brain-alzheimers-disease) \n"
   ]
  },
  {
   "cell_type": "markdown",
   "id": "9cfe6a65",
   "metadata": {},
   "source": [
    "<img style=\"text-align: left\" src=\"https://storage.googleapis.com/kaggle-media/competitions/Sartorius/Sartorius_Competition%20Description%20Image%20350x379.png\"\n",
    "     alt=\"Markdown Alzheimer picture\"\n",
    "     style=\"\" />"
   ]
  },
  {
   "cell_type": "markdown",
   "id": "e89ec963",
   "metadata": {},
   "source": [
    "<div class=\"header\" id=\"Alzheimer\">Alzheimer ziekte<a class=\"anchor-link\" href=\"#Alzheimer\"></a></div>"
   ]
  },
  {
   "cell_type": "markdown",
   "id": "0c86acba",
   "metadata": {},
   "source": [
    "<img src=\"https://herseninstituut.nl/wp-content/uploads/2018/06/Alzheimer-pixabay.jpg\"\n",
    "     alt=\"Markdown Alzheimer picture\"\n",
    "     style=\"\" />"
   ]
  },
  {
   "cell_type": "markdown",
   "id": "2941f9d9",
   "metadata": {},
   "source": [
    "<div class='smallheader'>Wat is Alzheimer?<div>"
   ]
  },
  {
   "cell_type": "markdown",
   "id": "9bdf1f5c",
   "metadata": {},
   "source": [
    "Alzheimer is de meest voorkomende oorzaak van dementie. Alzheimer is de oorzaak van 60-80% van de\n",
    "dementie gevallen (Alzheimer's assosiation, n.d.).\n",
    "\n",
    "De grootste bekende risicofactor is toenemende leeftijd. De meerderheid van de mensen die alzheimer\n",
    "hebben is 65 jaar of ouder.\n",
    "\n",
    "Alzheimer wordt erger over de tijd heen. In de beginfase van de ziekte is het geheugenverlies minimaal,\n",
    "maar gedurende de tijd zal het geheugenverlies toenemen. Ook zal een persoon niet meer kunnen\n",
    "communiceren en reageren op zijn omgeving.\n",
    "\n",
    "Alzheimer heeft nog geen geneesmiddel. De eerste stappen binnen het maken van een werkend\n",
    "geneesmiddel voor de beginfase van de ziekte zijn gemaakt. Er is namelijk een behandeling\n",
    "(Aducanumab) die werkt bij het verwijderen van amyloid, wat een van de kenmerken van de ziekte is\n",
    "(Alzheimer's assosiation, n.d.). "
   ]
  },
  {
   "cell_type": "markdown",
   "id": "4d3ebbc3",
   "metadata": {},
   "source": [
    "<div class='smallheader'>Hoe kun je Alzheimer herkennen?<div>"
   ]
  },
  {
   "cell_type": "markdown",
   "id": "462ea2c8",
   "metadata": {},
   "source": [
    "Microscopische veranderingen in de hersenen beginnen lang voor de eerste tekenen van\n",
    "geheugenverlies.\n",
    "\n",
    "De hersenen hebben 100 miljard zenuwcellen (neuronen). Elke neuron verbind met veel andere\n",
    "neuronen om communicatie netwerken te vormen. Dit maakt alles wat een mens doet mogelijk.\n",
    "Alzheimer is te herkennen door middel van (Alzheimer Nederland, n.d.):\n",
    "- Vergeetachtigheid;\n",
    "- Problemen bij het dagelijks handelen;\n",
    "- Taalproblemen;\n",
    "- Kwijtraken van spullen;\n",
    "- Slecht beoordelingsvermogen;\n",
    "- Terugtrekken uit sociale activiteiten;\n",
    "- Onrust.\n",
    "\n",
    "Artsen kunnen door naar microscopische foto’s te kijken de eerste tekenen van het ontwikkelen van\n",
    "Alzheimer herkennen."
   ]
  },
  {
   "cell_type": "markdown",
   "id": "af2cb112",
   "metadata": {},
   "source": [
    "<div class='smallheader'>Hoe werken neuronen precies?<div>"
   ]
  },
  {
   "cell_type": "markdown",
   "id": "8b2d81df",
   "metadata": {},
   "source": [
    "Neuronen communiceren met elkaar door elektrische signalen in hun axons te sturenen. Axons zijn de lange aanhangsels die aan het midden van de neuron vastzit. Als het elektrische signaal bij het einde van de axon komt geeft het een chemisch signaal af die wordt opgevangen door de axon van de tegenoverliggende cel."
   ]
  },
  {
   "cell_type": "markdown",
   "id": "a9d79d59",
   "metadata": {},
   "source": [
    "<div class='smallheader'>Hoe is Alzheimer te herkennen op cel niveau?<div>"
   ]
  },
  {
   "cell_type": "markdown",
   "id": "3ad13d13",
   "metadata": {},
   "source": [
    "De cellen van alzheimer patiënten worden langzaam gevuld met het proteïne Tau, wat ervoor zorgt dat er ophopingen ontstaan in de neuronen. Verder wordt het proteïne beta-amyloid buiten de neuron opgehoopt in plaques. Deze plaques kunnen de communicatie tussen neuronen blokkeren. Deze combinatie samen zorgt waarschijnlijk voor een giftig reactie in de hersenen. Waardoor axonen van neuronen geen signalen kunnen overbrengen en dus langzaam afsterven. In afbeeldingen kan je dit zien aan verminderde axonen van de neuron."
   ]
  },
  {
   "cell_type": "markdown",
   "id": "ac70bb71",
   "metadata": {},
   "source": [
    "<div class='smallheader'>De oorzaak van alzheimer.<div>"
   ]
  },
  {
   "cell_type": "markdown",
   "id": "cf3b52b9",
   "metadata": {},
   "source": [
    "Wetenschappers geloven dat alzheimer voorkomt dat gedeeltes van de fabriek van een neuron goed\n",
    "blijven werken. Er is echter nog niet duidelijk hoe dit proces in gang wordt gezet. Wel heeft leeftijd\n",
    "invloed op de kans dat je Alzheimer ontwikkeld (Alzheimer's assosiation, n.d.)."
   ]
  },
  {
   "cell_type": "markdown",
   "id": "dd788bc6",
   "metadata": {},
   "source": [
    "**Extra informatie / bronnen betreft Alzheimer**\n",
    "- [Alzheimer Nederland. (sd). Herkennen en symptomen van dementie](https://www.alzheimer-nederland.nl/dementie/herkennen-symptomen) \n",
    "- [Alzheimer's assosiation. (sd). What is Alzheimer’s Disease?](https://www.alz.org/alzheimers-dementia/what-is-alzheimers)\n",
    "- [What Happens to the Brain in Alzheimer's Disease?](https://www.nia.nih.gov/health/what-happens-brain-alzheimers-disease) \n",
    "- [Pyramidal cell axon initial segment in Alzheimer´s disease](https://www.ncbi.nlm.nih.gov/pmc/articles/PMC9130508/) "
   ]
  },
  {
   "cell_type": "markdown",
   "id": "21f44de5",
   "metadata": {},
   "source": [
    "<div class=\"header\" id=\"Hersentumor\">Hersen tumor <a class=\"anchor-link\" href=\"#Hersentumor\"></a></div>"
   ]
  },
  {
   "cell_type": "markdown",
   "id": "bdb80b7d",
   "metadata": {},
   "source": [
    "<div class='smallheader'>Wat is een Hersentumor?<div>"
   ]
  },
  {
   "cell_type": "markdown",
   "id": "53ca9033",
   "metadata": {},
   "source": [
    "Een tumor (gezwel) in de hersenen ontstaat wanneer hersencellen ongecontroleerd gaan delen en\n",
    "groeien (Kanker.nl, n.d.). Een hersentumor kan goedaardig of kwaadaardig zijn. Bij kwaadaardige\n",
    "tumoren praat je over een kanker. Een kwaadaardige hersentumor heet ook wel hersenkanker.\n",
    "\n",
    "Een kwaadaardige hersentumor kan uitzaaien naar andere delen van de hersens of het ruggenmerg. Een\n",
    "kwaadaardige hersentumor zaait zelden uit naar andere delen van het lichaam (Kanker.nl, n.d.)."
   ]
  },
  {
   "cell_type": "markdown",
   "id": "a8516892",
   "metadata": {},
   "source": [
    "<div class='smallheader'>De symptomen van een hersentumor.<div>"
   ]
  },
  {
   "cell_type": "markdown",
   "id": "0abef475",
   "metadata": {},
   "source": [
    "Een tumor in de hersenen kan invloed hebben op de werking van de hersenen en daardoor klachten\n",
    "geven. Dat geldt zowel voor kwaadaardige als goedaardige tumoren in de hersenen.\n",
    "\n",
    "Veelvoorkomende symptomen van een hersentumor zijn:\n",
    "- Aanhoudende hoofdpijn;\n",
    "- Verandering in verstandelijk vermogen en gedrag;\n",
    "- Uitvalsverschijnselen;\n",
    "- Epileptische aanvallen.\n",
    "\n",
    "De symptomen van een hersentumor verschillen heel erg per persoon. De grootte, groeisnelheid en de\n",
    "plaats hebben sterk invloed op de symptomen die iemand ervaart (Kanker.nl, n.d.)."
   ]
  },
  {
   "cell_type": "markdown",
   "id": "0098fb90",
   "metadata": {},
   "source": [
    "<div class='smallheader'>Wat zijn de oorzaken van een hersentumor?<div>"
   ]
  },
  {
   "cell_type": "markdown",
   "id": "9abf925c",
   "metadata": {},
   "source": [
    "De oorzaak van hersentumoren is nog steeds onbekend. Er is wel gedacht dat een virus, straling, een\n",
    "ongelukken of het contact met chemische stoffen de oorzaken kunnen zijn. Dit is echter nog niet\n",
    "bewezen. Er is soms wel een erfelijke component, met meerdere patiënten met gezwellen in één familie\n",
    "(Maxima mc, n.d.)."
   ]
  },
  {
   "cell_type": "markdown",
   "id": "ed0e8260",
   "metadata": {},
   "source": [
    "**Extra informatie / bronnen betreft hersen tumors**\n",
    "- [Wat is een hersentumor?](https://www.kanker.nl/kankersoorten/hersentumoren/algemeen/wat-is-een-hersentumor#:~:text=Een%20tumor%20(gezwel)%20in%20de,dan%20bij%20veel%20andere%2) \n",
    "- [Hersentumor](https://www.mmc.nl/oncologie/aandoeningen-en-behandelingen/hersentumor/#:~:text=De%20oorzaak%20van%20echte%20of,met%20gezwellen%20in%20%C3%A9%C3%A9n%20familie.)"
   ]
  },
  {
   "cell_type": "markdown",
   "id": "a5fc25a6",
   "metadata": {},
   "source": [
    "<div class=\"header\" id=\"Libraries\">Libraries<a class=\"anchor-link\" href=\"#Libraries\"></a></div>"
   ]
  },
  {
   "cell_type": "code",
   "execution_count": null,
   "id": "93c5cd00",
   "metadata": {},
   "outputs": [],
   "source": []
  }
 ],
 "metadata": {
  "kernelspec": {
   "display_name": "Pythonvenv",
   "language": "python",
   "name": "pythonvenv"
  },
  "language_info": {
   "codemirror_mode": {
    "name": "ipython",
    "version": 3
   },
   "file_extension": ".py",
   "mimetype": "text/x-python",
   "name": "python",
   "nbconvert_exporter": "python",
   "pygments_lexer": "ipython3",
   "version": "3.9.7"
  }
 },
 "nbformat": 4,
 "nbformat_minor": 5
}
